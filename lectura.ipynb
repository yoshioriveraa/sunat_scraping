{
 "cells": [
  {
   "cell_type": "code",
   "execution_count": 1,
   "metadata": {},
   "outputs": [],
   "source": [
    "import sqlite3\n",
    "import pandas as pd"
   ]
  },
  {
   "cell_type": "code",
   "execution_count": null,
   "metadata": {},
   "outputs": [],
   "source": []
  },
  {
   "cell_type": "code",
   "execution_count": 2,
   "metadata": {},
   "outputs": [],
   "source": [
    "# Función para leer datos de la base de datos SQLite\n",
    "def read_data_sql(PATH=r'bdd\\database.db'):\n",
    "    \"\"\"\n",
    "    Lee datos desde una base de datos SQLite y devuelve dos DataFrames.\n",
    "    \"\"\"\n",
    "    conn = sqlite3.connect(PATH)\n",
    "    df1 = pd.read_sql(\"SELECT * FROM tabla1\", conn)\n",
    "    df2 = pd.read_sql(\"SELECT * FROM tabla2\", conn)\n",
    "    conn.close()\n",
    "    return df1, df2"
   ]
  },
  {
   "cell_type": "code",
   "execution_count": 3,
   "metadata": {},
   "outputs": [],
   "source": [
    "df1, df2 = read_data_sql()"
   ]
  },
  {
   "cell_type": "code",
   "execution_count": 4,
   "metadata": {},
   "outputs": [
    {
     "data": {
      "text/html": [
       "<div>\n",
       "<style scoped>\n",
       "    .dataframe tbody tr th:only-of-type {\n",
       "        vertical-align: middle;\n",
       "    }\n",
       "\n",
       "    .dataframe tbody tr th {\n",
       "        vertical-align: top;\n",
       "    }\n",
       "\n",
       "    .dataframe thead th {\n",
       "        text-align: right;\n",
       "    }\n",
       "</style>\n",
       "<table border=\"1\" class=\"dataframe\">\n",
       "  <thead>\n",
       "    <tr style=\"text-align: right;\">\n",
       "      <th></th>\n",
       "      <th>ruc</th>\n",
       "      <th>nombre_completo</th>\n",
       "      <th>ubicación</th>\n",
       "      <th>estado</th>\n",
       "      <th>fecha_de_consulta</th>\n",
       "    </tr>\n",
       "  </thead>\n",
       "  <tbody>\n",
       "    <tr>\n",
       "      <th>0</th>\n",
       "      <td>10096838978</td>\n",
       "      <td>ABAD ZAPATA DANTE RICARDO</td>\n",
       "      <td>LIMA</td>\n",
       "      <td>ACTIVO</td>\n",
       "      <td>06/12/2024 0:15</td>\n",
       "    </tr>\n",
       "  </tbody>\n",
       "</table>\n",
       "</div>"
      ],
      "text/plain": [
       "           ruc            nombre_completo ubicación  estado fecha_de_consulta\n",
       "0  10096838978  ABAD ZAPATA DANTE RICARDO      LIMA  ACTIVO   06/12/2024 0:15"
      ]
     },
     "execution_count": 4,
     "metadata": {},
     "output_type": "execute_result"
    }
   ],
   "source": [
    "df1.head()"
   ]
  },
  {
   "cell_type": "code",
   "execution_count": 5,
   "metadata": {},
   "outputs": [
    {
     "data": {
      "text/html": [
       "<div>\n",
       "<style scoped>\n",
       "    .dataframe tbody tr th:only-of-type {\n",
       "        vertical-align: middle;\n",
       "    }\n",
       "\n",
       "    .dataframe tbody tr th {\n",
       "        vertical-align: top;\n",
       "    }\n",
       "\n",
       "    .dataframe thead th {\n",
       "        text-align: right;\n",
       "    }\n",
       "</style>\n",
       "<table border=\"1\" class=\"dataframe\">\n",
       "  <thead>\n",
       "    <tr style=\"text-align: right;\">\n",
       "      <th></th>\n",
       "      <th>tipo_contribuyente</th>\n",
       "      <th>tipo_documento</th>\n",
       "      <th>documento</th>\n",
       "      <th>nombre</th>\n",
       "      <th>nombre_comercial</th>\n",
       "      <th>fecha_inscripcion</th>\n",
       "      <th>fecha_inicio_actividades</th>\n",
       "      <th>estado</th>\n",
       "      <th>condicion</th>\n",
       "      <th>domicilio_fiscal</th>\n",
       "      <th>emision_comprobante</th>\n",
       "      <th>comercio_exterior</th>\n",
       "      <th>contabilidad</th>\n",
       "      <th>actividad_economica</th>\n",
       "      <th>comprobantes_impresos</th>\n",
       "      <th>emision_electronica</th>\n",
       "      <th>emisor_electronico_desde</th>\n",
       "      <th>comprobantes_electronicos</th>\n",
       "      <th>afiliado_ple_desde</th>\n",
       "      <th>padrones</th>\n",
       "    </tr>\n",
       "  </thead>\n",
       "  <tbody>\n",
       "    <tr>\n",
       "      <th>0</th>\n",
       "      <td>PERSONA NATURAL CON NEGOCIO</td>\n",
       "      <td>DNI</td>\n",
       "      <td>09683897</td>\n",
       "      <td>ABAD ZAPATA, DANTE RICARDO</td>\n",
       "      <td>-\\nAfecto al Nuevo RUS: SI</td>\n",
       "      <td>1999-01-07 00:00:00</td>\n",
       "      <td>1999-01-07 00:00:00</td>\n",
       "      <td>ACTIVO</td>\n",
       "      <td>HABIDO</td>\n",
       "      <td>-</td>\n",
       "      <td>MANUAL</td>\n",
       "      <td>SIN ACTIVIDAD</td>\n",
       "      <td>MANUAL</td>\n",
       "      <td>Principal - 7020 - ACTIVIDADES DE CONSULTORÍA ...</td>\n",
       "      <td>Secundaria 1 - 0130 - PROPAGACIÓN DE PLANTAS</td>\n",
       "      <td>19/03/2015</td>\n",
       "      <td>19/03/2015</td>\n",
       "      <td>RECIBO POR HONORARIO (desde 19/03/2015),BOLETA...</td>\n",
       "      <td>-</td>\n",
       "      <td>Secundaria 2 - 4761 - VENTA AL POR MENOR DE LI...</td>\n",
       "    </tr>\n",
       "  </tbody>\n",
       "</table>\n",
       "</div>"
      ],
      "text/plain": [
       "            tipo_contribuyente tipo_documento documento  \\\n",
       "0  PERSONA NATURAL CON NEGOCIO            DNI  09683897   \n",
       "\n",
       "                       nombre            nombre_comercial  \\\n",
       "0  ABAD ZAPATA, DANTE RICARDO  -\\nAfecto al Nuevo RUS: SI   \n",
       "\n",
       "     fecha_inscripcion fecha_inicio_actividades  estado condicion  \\\n",
       "0  1999-01-07 00:00:00      1999-01-07 00:00:00  ACTIVO    HABIDO   \n",
       "\n",
       "  domicilio_fiscal emision_comprobante comercio_exterior contabilidad  \\\n",
       "0                -              MANUAL     SIN ACTIVIDAD       MANUAL   \n",
       "\n",
       "                                 actividad_economica  \\\n",
       "0  Principal - 7020 - ACTIVIDADES DE CONSULTORÍA ...   \n",
       "\n",
       "                          comprobantes_impresos emision_electronica  \\\n",
       "0  Secundaria 1 - 0130 - PROPAGACIÓN DE PLANTAS          19/03/2015   \n",
       "\n",
       "  emisor_electronico_desde                          comprobantes_electronicos  \\\n",
       "0               19/03/2015  RECIBO POR HONORARIO (desde 19/03/2015),BOLETA...   \n",
       "\n",
       "  afiliado_ple_desde                                           padrones  \n",
       "0                  -  Secundaria 2 - 4761 - VENTA AL POR MENOR DE LI...  "
      ]
     },
     "execution_count": 5,
     "metadata": {},
     "output_type": "execute_result"
    }
   ],
   "source": [
    "df2.head()"
   ]
  }
 ],
 "metadata": {
  "kernelspec": {
   "display_name": "Python 3",
   "language": "python",
   "name": "python3"
  },
  "language_info": {
   "codemirror_mode": {
    "name": "ipython",
    "version": 3
   },
   "file_extension": ".py",
   "mimetype": "text/x-python",
   "name": "python",
   "nbconvert_exporter": "python",
   "pygments_lexer": "ipython3",
   "version": "3.13.1"
  }
 },
 "nbformat": 4,
 "nbformat_minor": 2
}
